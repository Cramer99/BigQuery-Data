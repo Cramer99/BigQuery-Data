{
  "metadata": {},
  "nbformat": 4,
  "nbformat_minor": 5,
  "cells": [
    {
      "cell_type": "aidi-dag-node",
      "metadata": {
        "name": "",
        "tags": [],
        "pullContextTime": "1752115349239",
        "createTime": "1752115349239",
        "updateTime": "1752115349267",
        "nodeHeight": 475,
        "nodeWidth": 800,
        "positionX": 250,
        "positionY": 250
      },
      "id": "bq-code-editor-dag-node-1752115349239-5",
      "type": "bq-code-editor",
      "state": "INITIAL",
      "nlInput": "",
      "nlInputHistory": [],
      "modelResponse": "",
      "children": [],
      "collapsedSubgraphId": "",
      "isMultiturnNodeType": true,
      "additional_properties": {
        "content": "SELECT\r\n  products_industry_name,\r\nCOUNT(report_number) AS count_hospitalizations\r\nFROM\r\n  bigquery-public-data.fda_food.food_events\r\nWHERE products_industry_name IN\r\n    (SELECT\r\nproducts_industry_name\r\nFROM  \r\nbigquery-public-data.fda_food.food_events\r\nGROUP BY products_industry_name\r\nORDER BY COUNT(report_number) DESC LIMIT 10)\r\nAND outcomes LIKE '%Hospitalization%'\r\n--The AND operator displays a record if all the conditions are TRUE.\r\n--The LIKE operator is used in a WHERE clause to search for a specified pattern in a column.\r\nGROUP BY products_industry_name\r\nORDER BY count_hospitalizations DESC;",
        "citationIndexes": [],
        "generateOnInit": false,
        "focusOnInit": false,
        "title": "SQL",
        "collapsedSql": false,
        "isCollapsed": false,
        "preCollapsedNodeHeight": 0,
        "preCollapsedNodeWidth": 0,
        "hasStartedMultiturnSession": true
      }
    }
  ]
}